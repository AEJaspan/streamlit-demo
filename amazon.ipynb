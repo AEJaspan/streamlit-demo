{
 "cells": [
  {
   "cell_type": "code",
   "execution_count": null,
   "metadata": {},
   "outputs": [],
   "source": [
    "!pip install -q apify-client langchain langchain-openai python-dotenv langchain-community"
   ]
  },
  {
   "cell_type": "code",
   "execution_count": null,
   "metadata": {},
   "outputs": [],
   "source": [
    "from langchain_community.utilities import ApifyWrapper"
   ]
  },
  {
   "cell_type": "code",
   "execution_count": null,
   "metadata": {},
   "outputs": [],
   "source": [
    "from langchain_community.document_loaders import ApifyDatasetLoader\n",
    "from langchain_core.documents import Document"
   ]
  },
  {
   "cell_type": "code",
   "execution_count": null,
   "metadata": {},
   "outputs": [],
   "source": [
    "from langchain.indexes import VectorstoreIndexCreator\n",
    "from langchain_community.utilities import ApifyWrapper\n",
    "from langchain_core.documents import Document\n",
    "from langchain_openai import OpenAI\n",
    "from langchain_openai.embeddings import OpenAIEmbeddings"
   ]
  },
  {
   "cell_type": "code",
   "execution_count": null,
   "metadata": {},
   "outputs": [],
   "source": [
    "import os \n",
    "from dotenv import find_dotenv, load_dotenv\n",
    "load_dotenv(find_dotenv())\n",
    "print(isinstance(os.environ[\"APIFY_API_TOKEN\"], str) and len(os.environ[\"APIFY_API_TOKEN\"]) > 0)"
   ]
  },
  {
   "cell_type": "code",
   "execution_count": null,
   "metadata": {},
   "outputs": [],
   "source": [
    "from apify_client import ApifyClient\n",
    "\n",
    "# Initialize the client with your API key\n",
    "client = ApifyClient(os.environ[\"APIFY_API_TOKEN\"])\n",
    "\n",
    "# List datasets\n",
    "datasets = client.datasets().list()\n",
    "for dataset in datasets.items:\n",
    "    print(dataset['name'], dataset['id'])\n"
   ]
  },
  {
   "cell_type": "code",
   "execution_count": null,
   "metadata": {},
   "outputs": [],
   "source": [
    "os.environ[\"APIFY_DATASET_ID\"] = \"XcGo2ENbdpb9shDvz\"\n",
    "loader = ApifyDatasetLoader(\n",
    "    dataset_id=os.environ[\"APIFY_DATASET_ID\"],\n",
    "    dataset_mapping_function=lambda item: Document(\n",
    "        page_content=item[\"title\"] or \"\", metadata={\"source\": item[\"url\"]}\n",
    "    ),\n",
    ")\n",
    "loader.load()"
   ]
  },
  {
   "cell_type": "code",
   "execution_count": null,
   "metadata": {},
   "outputs": [],
   "source": [
    "from langchain.document_loaders import ApifyDatasetLoader\n",
    "from langchain.schema import Document\n",
    "\n",
    "def process_item(product):\n",
    "    \"\"\"\n",
    "    Processes a single product item into metadata and page_content.\n",
    "\n",
    "    Args:\n",
    "        product (dict): A dictionary containing product data.\n",
    "\n",
    "    Returns:\n",
    "        dict: A dictionary with `metadata` and `page_content`, or None if invalid.\n",
    "    \"\"\"\n",
    "    try:\n",
    "        # Ensure essential fields are present\n",
    "        if not product.get(\"title\") or not product.get(\"price\", {}).get(\"value\"):\n",
    "            return None\n",
    "\n",
    "        # Extract metadata\n",
    "        metadata = {\n",
    "            \"title\": product.get(\"title\", \"\"),\n",
    "            \"price\": float(product.get(\"price\", {}).get(\"value\", 0)),  # Ensure numeric price\n",
    "            \"currency\": product.get(\"price\", {}).get(\"currency\", \"USD\"),  # Default to USD\n",
    "            \"brand\": product.get(\"brand\", \"Unknown\"),  # Default brand\n",
    "            \"stars\": product.get(\"stars\", 0.0),  # Default to 0 stars\n",
    "            \"reviews_count\": product.get(\"reviewsCount\", 0),  # Default to 0 reviews\n",
    "            \"category\": \" > \".join(product.get(\"breadCrumbs\", [])),  # Flatten breadcrumbs\n",
    "            \"in_stock\": product.get(\"inStock\", False),  # Default to False\n",
    "            # \"return_policy\": product.get(\"returnPolicy\", \"No policy specified\"),\n",
    "            \"seller\": product.get(\"seller\", {}).get(\"name\", \"Unknown seller\"),  # New field\n",
    "            \"shipping_cost\": product.get(\"shippingDetails\", {}).get(\"cost\", 0),  # Default to 0\n",
    "            \"source\": product.get(\"url\", \"\"),\n",
    "            \"thumbnail_url\": product.get(\"thumbnailImage\", \"\"),\n",
    "        }\n",
    "\n",
    "        # Generate free text for page_content\n",
    "        page_content = f\"\"\"\n",
    "        Title: {product.get(\"title\", \"No title available\")}\n",
    "        Description: {product.get(\"description\", \"No description available\")}\n",
    "        Features: {product.get(\"features\", \"No feature descriptions available\")}\n",
    "        Attributes: {product.get(\"attributes\", \"No attribute descriptions available\")}\n",
    "        Reviews: {product.get(\"reviewsText\", \"No reviews available.\")}\n",
    "        Seller: {metadata[\"seller\"]}\n",
    "        \"\"\"\n",
    "        # Return Policy: {metadata[\"return_policy\"]}\n",
    "\n",
    "        # Strip unnecessary whitespace\n",
    "        page_content = page_content.strip()\n",
    "\n",
    "        return Document(metadata=metadata, page_content=page_content)\n",
    "\n",
    "    except Exception as e:\n",
    "        print(f\"Error processing product: {e}\")\n",
    "        return None\n",
    "\n",
    "\n",
    "# Initialize the loader with the custom mapping function\n",
    "loader = ApifyDatasetLoader(\n",
    "    dataset_id=os.environ[\"APIFY_DATASET_ID\"],\n",
    "    dataset_mapping_function=process_item,\n",
    ")\n",
    "\n",
    "# Load the data\n",
    "documents = loader.load()\n",
    "documents"
   ]
  },
  {
   "cell_type": "code",
   "execution_count": null,
   "metadata": {},
   "outputs": [],
   "source": [
    "!pip install -q chromadb langchain-chroma"
   ]
  },
  {
   "cell_type": "code",
   "execution_count": null,
   "metadata": {},
   "outputs": [],
   "source": [
    "from langchain.vectorstores import Chroma \n",
    "\n",
    "persist_directory = \"embedding/chroma\"\n",
    "embedding = OpenAIEmbeddings()\n",
    "# doc = [doc for doc in documents if doc is not None and doc.page_content is not None and doc.metadata is not None and isinstance(doc, Document)]\n",
    "\n",
    "def filter_complex_metadata(document, allowed_types=Document):\n",
    "    filtered_documents = []\n",
    "    for document in documents:\n",
    "        filtered_metadata = {}\n",
    "        # print(document)\n",
    "        if not isinstance(document, allowed_types):\n",
    "            continue\n",
    "        for key, value in document.metadata.items():\n",
    "            filtered_metadata[key] = value\n",
    "        document.metadata = filtered_metadata\n",
    "        filtered_documents.append(document)\n",
    "    return filtered_documents\n",
    "# Filter out complex metadata from the documents\n",
    "filtered_documents = filter_complex_metadata(documents)\n",
    "\n",
    "# Create the Chroma database"
   ]
  },
  {
   "cell_type": "code",
   "execution_count": null,
   "metadata": {},
   "outputs": [],
   "source": [
    "from langchain.indexes.vectorstore import VectorStoreIndexWrapper\n",
    "vectorstore = Chroma(persist_directory=persist_directory, embedding_function=embedding)\n",
    "\n",
    "index = VectorStoreIndexWrapper(vectorstore=vectorstore)\n",
    "#.from_documents(documents=doc, embedding=OpenAIEmbeddings())\n",
    "query = \"Which keyboards has USB-C charging?\"\n",
    "result = index.query_with_sources(query, llm=OpenAI())\n",
    "print(result[\"answer\"])\n",
    "print(result[\"sources\"])"
   ]
  },
  {
   "cell_type": "code",
   "execution_count": null,
   "metadata": {},
   "outputs": [],
   "source": [
    "from langchain.chains.qa_with_sources.retrieval import RetrievalQAWithSourcesChain\n",
    "question = \"Which keyboard has USB-C charging?\"\n",
    "vectorstore = Chroma.from_documents(filtered_documents, embedding=embedding, persist_directory=persist_directory)\n",
    "retriever_kwargs = {} # retriever_kwargs or {}\n",
    "kwargs = {}\n",
    "llm=OpenAI()\n",
    "chain = RetrievalQAWithSourcesChain.from_chain_type(\n",
    "    llm, retriever=vectorstore.as_retriever(**retriever_kwargs), **kwargs\n",
    ")\n",
    "chain.invoke({chain.question_key: question})"
   ]
  },
  {
   "cell_type": "code",
   "execution_count": null,
   "metadata": {},
   "outputs": [],
   "source": [
    "from langchain.indexes.vectorstore import VectorStoreIndexWrapper\n",
    "vectorstore = Chroma.from_documents(filtered_documents, embedding=embedding, persist_directory=persist_directory)\n",
    "\n",
    "index = VectorStoreIndexWrapper(vectorstore=vectorstore)\n",
    "#.from_documents(documents=doc, embedding=OpenAIEmbeddings())\n",
    "query = \"Which keyboard has USB-C charging?\"\n",
    "result = index.query_with_sources(query, llm=OpenAI())\n",
    "print(result[\"answer\"])\n",
    "print(result[\"sources\"])"
   ]
  },
  {
   "cell_type": "code",
   "execution_count": null,
   "metadata": {},
   "outputs": [],
   "source": [
    "products = vectorstore.search(\"\", search_type=\"similarity\", filter={\"source\": \"https://www.amazon.com/dp/B0CNT6GP41\"}, k=5)\n",
    "[product.metadata['title'] for product in products]\n",
    "#.query(\"\",retriever_kwargs={\"sources\": [\"https://www.amazon.com/dp/B0CNT6GP41\"]})"
   ]
  },
  {
   "cell_type": "code",
   "execution_count": null,
   "metadata": {},
   "outputs": [],
   "source": [
    "index = VectorstoreIndexCreator(embedding=OpenAIEmbeddings(), vectorstore_cls=Chroma, vectorstore_kwargs={\"persist_directory\": persist_directory}).from_documents(documents=filtered_documents)\n",
    "query = \"Which keyboard has USB-C charging?\"\n",
    "result = index.query_with_sources(query, llm=OpenAI())\n",
    "print(result[\"answer\"])\n",
    "print(result[\"sources\"])"
   ]
  },
  {
   "cell_type": "code",
   "execution_count": null,
   "metadata": {},
   "outputs": [],
   "source": [
    "!pip install -q streamlit\n"
   ]
  }
 ],
 "metadata": {
  "kernelspec": {
   "display_name": ".virtenv",
   "language": "python",
   "name": "python3"
  },
  "language_info": {
   "codemirror_mode": {
    "name": "ipython",
    "version": 3
   },
   "file_extension": ".py",
   "mimetype": "text/x-python",
   "name": "python",
   "nbconvert_exporter": "python",
   "pygments_lexer": "ipython3",
   "version": "3.10.12"
  }
 },
 "nbformat": 4,
 "nbformat_minor": 2
}
